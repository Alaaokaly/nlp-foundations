{
  "nbformat": 4,
  "nbformat_minor": 0,
  "metadata": {
    "colab": {
      "provenance": [],
      "authorship_tag": "ABX9TyN1t1IIXlRsTALJvgsBClNM",
      "include_colab_link": true
    },
    "kernelspec": {
      "name": "python3",
      "display_name": "Python 3"
    },
    "language_info": {
      "name": "python"
    }
  },
  "cells": [
    {
      "cell_type": "markdown",
      "metadata": {
        "id": "view-in-github",
        "colab_type": "text"
      },
      "source": [
        "<a href=\"https://colab.research.google.com/github/Alaaokaly/nlp-foundations/blob/main/EncoderDecoderModel.ipynb\" target=\"_parent\"><img src=\"https://colab.research.google.com/assets/colab-badge.svg\" alt=\"Open In Colab\"/></a>"
      ]
    },
    {
      "cell_type": "code",
      "execution_count": null,
      "metadata": {
        "colab": {
          "base_uri": "https://localhost:8080/"
        },
        "id": "5E3caK5Fjka4",
        "outputId": "3df81c7d-feae-4377-8086-9ee6d0f0cac9"
      },
      "outputs": [
        {
          "output_type": "stream",
          "name": "stdout",
          "text": [
            "8\n"
          ]
        }
      ],
      "source": [
        "class Node ():\n",
        "    def multi(self,x):\n",
        "        print(x*x*2)\n",
        "\n",
        "node = Node()\n",
        "node.multi(2)"
      ]
    },
    {
      "cell_type": "code",
      "source": [
        "# encoder architucture for seq2seq structure\n",
        "import torch\n",
        "import torch.nn as nn\n",
        "\n",
        "class Encoder(nn.Module):\n",
        "    def __init__(self, vocab_size, embedding_size, num_hidden, num_layers, drop_out = 0 ):\n",
        "\n",
        "       super().__init__()\n",
        "       self.embedding = nn.Embedding(vocab_size, embedding_size)\n",
        "       self.encoder = nn.GRU(embedding_size, num_hidden, num_layers, dropout = drop_out)\n",
        "    def forward(self, X):\n",
        "        embds = self.embedding(X.t())\n",
        "        outputs, hidden_state = self.encoder(embds)\n",
        "        return outputs, hidden_state\n",
        "\n",
        "\n",
        "vocab_size, embed_size, num_hiddens, num_layers = 10, 8, 16, 2\n",
        "batch_size, num_steps = 4, 9\n",
        "encoder = Encoder(vocab_size, embed_size, num_hiddens, num_layers)\n",
        "X = torch.zeros((batch_size,num_steps), dtype=torch.long)\n",
        "outputs, state = encoder(X)\n",
        "print(outputs.shape)\n",
        "print(state.shape)\n",
        "\n",
        "\n"
      ],
      "metadata": {
        "colab": {
          "base_uri": "https://localhost:8080/"
        },
        "id": "IE18RMdyj2RS",
        "outputId": "d7001524-ae87-4eaf-e02c-bc479441467e"
      },
      "execution_count": 51,
      "outputs": [
        {
          "output_type": "stream",
          "name": "stdout",
          "text": [
            "torch.Size([9, 4, 16])\n",
            "torch.Size([2, 4, 16])\n"
          ]
        }
      ]
    },
    {
      "cell_type": "code",
      "source": [
        "\"\"\" it's important to make sure that the dim of both the encoder and decoder match\n",
        "as in having the same layer_num and num_hidden\n",
        "this ensures that the info transfer at each step \"\"\""
      ],
      "metadata": {
        "id": "qRHWSwKimaDu",
        "colab": {
          "base_uri": "https://localhost:8080/",
          "height": 35
        },
        "outputId": "9a3b4a77-cc60-4928-9656-c78556a6f85e"
      },
      "execution_count": 52,
      "outputs": [
        {
          "output_type": "execute_result",
          "data": {
            "text/plain": [
              "\" it's important to make sure that the dim of both the encoder and decoder match \\nas in having the same layer_num and num_hidden \\nthis ensures that the info transfer at each step \""
            ],
            "application/vnd.google.colaboratory.intrinsic+json": {
              "type": "string"
            }
          },
          "metadata": {},
          "execution_count": 52
        }
      ]
    },
    {
      "cell_type": "code",
      "source": [
        "import torch\n",
        "import torch.nn as nn\n",
        "\n",
        "class Decoder(nn.Module):\n",
        "    def __init__(self, vocab_size, embedding_size, num_hiddens, num_layers, drop_out=0):\n",
        "        super().__init__()\n",
        "        self.embedding = nn.Embedding(vocab_size, embedding_size)\n",
        "        self.decoder = nn.GRU(embedding_size + num_hiddens, num_hiddens, num_layers, dropout=drop_out)\n",
        "        self.dense = nn.LazyLinear(vocab_size)\n",
        "\n",
        "    def init_state(self, encoder_state):\n",
        "        # Return the last hidden state for the decoder\n",
        "        return encoder_state[-1]\n",
        "\n",
        "    def forward(self, X, state):\n",
        "        embeds = self.embedding(X)  # Shape: (batch_size, num_steps, embedding_size)\n",
        "\n",
        "        # Get the last hidden state and reshape for context\n",
        "        context = state[-1].unsqueeze(1)  # Shape: (batch_size, 1, num_hidden)\n",
        "        context = context.repeat(1, embeds.size(1), 1)  # Shape: (batch_size, num_steps, num_hidden)\n",
        "\n",
        "        print(\"Shape of embeds:\", embeds.shape)  # Should be (4, 9, 8)\n",
        "        print(\"Shape of context:\", context.shape)  # Should be (4, 9, 16)\n",
        "\n",
        "        # Concatenate the embeddings and the context\n",
        "        embs_and_context = torch.cat((embeds, context), dim=-1)  # Shape: (batch_size, num_steps, embedding_size + num_hidden)\n",
        "\n",
        "        # Use GRU to generate the decoder output\n",
        "        outputs, hidden_state = self.decoder(embs_and_context.transpose(0, 1), state)  # Transpose for GRU: (num_steps, batch_size, input_size)\n",
        "\n",
        "        outputs = self.dense(outputs).swapaxes(0, 1)  # Shape: (batch_size, num_steps, vocab_size)\n",
        "\n",
        "        return outputs, hidden_state  # Return outputs and new hidden state\n",
        "\n",
        "\n",
        "encoder = Encoder(vocab_size, embed_size, num_hiddens, num_layers)\n",
        "outputs, state = encoder(X)\n",
        "\n",
        "\n",
        "\n",
        "decoder = Decoder(vocab_size, embed_size, num_hiddens, num_layers)\n",
        "dec_outputs, new_state = decoder(X, state)\n",
        "\n",
        "print(\"Decoder outputs shape:\", dec_outputs.shape)  # Expected: (batch_size, num_steps, vocab_size)\n"
      ],
      "metadata": {
        "id": "FxiANBl-qaeu",
        "outputId": "f801a570-4acc-49c5-c0af-f746690af730",
        "colab": {
          "base_uri": "https://localhost:8080/"
        }
      },
      "execution_count": 63,
      "outputs": [
        {
          "output_type": "stream",
          "name": "stdout",
          "text": [
            "Shape of embeds: torch.Size([4, 9, 8])\n",
            "Shape of context: torch.Size([4, 9, 16])\n",
            "Decoder outputs shape: torch.Size([4, 9, 10])\n"
          ]
        }
      ]
    }
  ]
}