{
  "nbformat": 4,
  "nbformat_minor": 0,
  "metadata": {
    "colab": {
      "provenance": [],
      "gpuType": "T4",
      "authorship_tag": "ABX9TyM27T2Z3PKvfzqfJ8ZIWYaN",
      "include_colab_link": true
    },
    "kernelspec": {
      "name": "python3",
      "display_name": "Python 3"
    },
    "language_info": {
      "name": "python"
    },
    "accelerator": "GPU"
  },
  "cells": [
    {
      "cell_type": "markdown",
      "metadata": {
        "id": "view-in-github",
        "colab_type": "text"
      },
      "source": [
        "<a href=\"https://colab.research.google.com/github/Alaaokaly/nlp-foundations/blob/main/RNNtextgenerating.ipynb\" target=\"_parent\"><img src=\"https://colab.research.google.com/assets/colab-badge.svg\" alt=\"Open In Colab\"/></a>"
      ]
    },
    {
      "cell_type": "code",
      "source": [
        "import pandas as pd\n",
        "import numpy as np\n",
        "import torch.nn as nn\n",
        "import torch.optim as optim\n",
        "import torch"
      ],
      "metadata": {
        "id": "4ySAPTd6TAEc"
      },
      "execution_count": 1,
      "outputs": []
    },
    {
      "cell_type": "code",
      "source": [
        "corpus = \"\"\"Weather in Asia: A Diverse Tapestry of Climates\n",
        "\n",
        "Asia, the largest continent on Earth, is renowned for its immense diversity, not only in culture and geography but also in climate. From the icy tundras of Siberia to the tropical rainforests of Southeast Asia, the weather across this vast expanse varies dramatically. Understanding the climatic conditions in different regions of Asia is essential for agriculture, tourism, and daily life, influencing everything from crop cycles to travel plans.\n",
        "\n",
        "In northern Asia, particularly in Siberia, winters are harsh and long. Temperatures can plummet to as low as -40°C in some areas, making it one of the coldest places on Earth. The vast taiga forest is covered in snow for much of the year, creating a winter wonderland that attracts adventurous tourists. However, summers are brief and can be surprisingly warm, with temperatures reaching 30°C.\n",
        "\n",
        "Moving south, East Asia experiences a different climate, significantly influenced by the monsoon system. Countries like China, Japan, and Korea see seasonal rains that are crucial for agriculture. The summer months bring heavy downpours, often accompanied by typhoons, especially in coastal regions.\n",
        "\n",
        "Southeast Asia is characterized by its tropical climate, with high temperatures and humidity year-round. Countries like Thailand and Indonesia experience two main seasons: the dry season and the wet season. The monsoon rains can lead to flooding but also nourish the lush landscapes.\n",
        "\n",
        "In South Asia, the weather is dominated by the Indian monsoon. The summer monsoon brings heavy rains, crucial for replenishing water supplies and supporting agriculture. However, it can also lead to natural disasters like floods. In contrast, the winter months bring cooler temperatures to northern India.\n",
        "\n",
        "Central Asia, encompassing countries like Kazakhstan and Uzbekistan, is characterized by its continental climate with hot summers and cold winters. The region is largely arid, with deserts dominating the landscape. Despite the harsh conditions, Central Asia has a rich history of nomadic cultures.\n",
        "\n",
        "The weather across Asia is a complex subject, reflecting the continent's vast geographical diversity. Each region has developed its own unique climatic conditions, influencing everything from agriculture to culture. Understanding these dynamics becomes increasingly important as climate change impacts weather patterns globally.\"\"\"\n"
      ],
      "metadata": {
        "id": "i-asCDA4UZKv"
      },
      "execution_count": 2,
      "outputs": []
    },
    {
      "cell_type": "code",
      "source": [
        "data = corpus.lower()\n",
        "chars = list(set(data))\n",
        "data_size, vocab_size = len(data), len(chars)\n",
        "print('data has %d characters, %d unique.' % (data_size, vocab_size))\n",
        "\n",
        "char_to_idx = {char: idx for idx, char in enumerate(chars)}\n",
        "idx_to_char = {idx: char for idx, char in enumerate(chars)}\n"
      ],
      "metadata": {
        "colab": {
          "base_uri": "https://localhost:8080/"
        },
        "id": "WDQgbizfRz-_",
        "outputId": "17a905ad-01ca-4641-c0d4-121dcc3ce825"
      },
      "execution_count": 3,
      "outputs": [
        {
          "output_type": "stream",
          "name": "stdout",
          "text": [
            "data has 2413 characters, 37 unique.\n"
          ]
        }
      ]
    },
    {
      "cell_type": "code",
      "execution_count": 4,
      "metadata": {
        "id": "gKMAF4nYRE49"
      },
      "outputs": [],
      "source": [
        "# RNN generating text model\n",
        "\n",
        "epochs = 1000\n",
        "input_size =  len(chars)\n",
        "output_size =  len(chars)\n",
        "hidden_n = 37\n",
        "sequence_length = 120\n",
        "\n",
        "class RNN(nn.Module):\n",
        "    def __init__(self, input_size, output_size,hidden_size ):\n",
        "        super(RNN, self).__init__()\n",
        "        self.rnn = nn.RNN(input_size, hidden_n, batch_first=True)\n",
        "        self.fc = nn.Linear(hidden_size, output_size)\n",
        "\n",
        "    def forward(self, x, h_0):\n",
        "        out, h_t = self.rnn(x, h_0)\n",
        "        out = self.fc(out[:, -1, :])  # Use only the last output\n",
        "        return out\n",
        "\n",
        "model = RNN(input_size, hidden_n, output_size)\n"
      ]
    },
    {
      "cell_type": "code",
      "source": [
        "\n",
        "criterion = nn.CrossEntropyLoss()\n",
        "optimizer = optim.Adam(model.parameters(), lr=0.001)\n"
      ],
      "metadata": {
        "id": "lnRDu3ClqbEv"
      },
      "execution_count": 5,
      "outputs": []
    },
    {
      "cell_type": "code",
      "source": [
        "for epoch in range(epochs):\n",
        "    for i in range(len(corpus) - sequence_length):\n",
        "        # Prepare input and target sequences\n",
        "        x_seq = [char_to_idx[ch] for ch in data[i:i + sequence_length]]\n",
        "        y_seq = char_to_idx[data[i+sequence_length]]\n",
        "\n",
        "        # Convert to tensor and one-hot encode\n",
        "        x_tensor = torch.zeros(1, sequence_length, vocab_size)\n",
        "        for j, idx in enumerate(x_seq):\n",
        "            x_tensor[0, j, idx] = 1  # One-hot encoding\n",
        "\n",
        "        # Initialize hidden state\n",
        "        h_0 = torch.zeros(1, 1, hidden_n)  # Shape (num_layers, batch_size, hidden_size)\n",
        "\n",
        "        # Forward pass\n",
        "        optimizer.zero_grad()  # Zero the gradients\n",
        "        y_pred = model(x_tensor, h_0)  # Get the prediction\n",
        "\n",
        "        # Compute loss\n",
        "        loss = criterion(y_pred, torch.tensor([y_seq]))\n",
        "\n",
        "        # Backward pass and optimization\n",
        "        loss.backward()\n",
        "        optimizer.step()"
      ],
      "metadata": {
        "id": "PyWu2yyOrCRG"
      },
      "execution_count": null,
      "outputs": []
    },
    {
      "cell_type": "code",
      "source": [
        "with torch.no_grad():\n",
        "    test_input = \"hel\"  # Take the last 3 characters for prediction\n",
        "    x_seq = [char_to_idx[ch] for ch in test_input]\n",
        "    x_tensor = torch.zeros(1, sequence_length, vocab_size)\n",
        "    for j, idx in enumerate(x_seq):\n",
        "        x_tensor[0, j, idx] = 1  # One-hot encoding\n",
        "\n",
        "    h_0 = torch.zeros(1, 1, hidden_size)\n",
        "    predicted_output = model(x_tensor, h_0)\n",
        "    predicted_char_idx = torch.argmax(predicted_output).item()\n",
        "    predicted_char = idx_to_char[predicted_char_idx]\n",
        "\n",
        "    print(f\"Input: '{test_input}' -> Predicted next character: '{predicted_char}'\")"
      ],
      "metadata": {
        "id": "w2XYcU-UsmBV"
      },
      "execution_count": null,
      "outputs": []
    },
    {
      "cell_type": "code",
      "source": [
        "# evaluate using preplexity"
      ],
      "metadata": {
        "id": "TGusklbu05qV"
      },
      "execution_count": null,
      "outputs": []
    }
  ]
}